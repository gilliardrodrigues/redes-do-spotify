{
 "cells": [
  {
   "cell_type": "markdown",
   "metadata": {
    "id": "bY9gG2gxbqgJ"
   },
   "source": [
    "Baseado [nesse notebook](https://gist.github.com/Kautenja/71f139eee58099b77e91a0d775e42b47#file-visualizing-spotify-related-artists-with-gephi-ipynb) de @Kautenja no gist e [nesse notebook](https://github.com/nazareno/redes-do-spotify/blob/main/gera-rede-para-gephi.ipynb) de @nazareno no GitHub. "
   ]
  },
  {
   "cell_type": "markdown",
   "metadata": {
    "id": "hm1KvwK5AFMa"
   },
   "source": [
    "# Spotify API\n",
    "\n",
    "Para utilizar a API do Spotify faremos uso de um _wrapper_ leve disponível para _Python_:"
   ]
  },
  {
   "cell_type": "code",
   "execution_count": 1,
   "metadata": {
    "colab": {
     "base_uri": "https://localhost:8080/"
    },
    "id": "oku7mDTEBF-A",
    "outputId": "dc51c94d-f0d1-4ac3-eeb0-b9c7e72bdcbc"
   },
   "outputs": [
    {
     "name": "stdout",
     "output_type": "stream",
     "text": [
      "Requirement already satisfied: spotipy in c:\\users\\user\\anaconda3\\lib\\site-packages (2.22.0)\n",
      "Requirement already satisfied: redis>=3.5.3 in c:\\users\\user\\anaconda3\\lib\\site-packages (from spotipy) (4.4.0)\n",
      "Requirement already satisfied: six>=1.15.0 in c:\\users\\user\\anaconda3\\lib\\site-packages (from spotipy) (1.16.0)\n",
      "Requirement already satisfied: urllib3>=1.26.0 in c:\\users\\user\\anaconda3\\lib\\site-packages (from spotipy) (1.26.9)\n",
      "Requirement already satisfied: requests>=2.25.0 in c:\\users\\user\\anaconda3\\lib\\site-packages (from spotipy) (2.27.1)\n",
      "Requirement already satisfied: async-timeout>=4.0.2 in c:\\users\\user\\anaconda3\\lib\\site-packages (from redis>=3.5.3->spotipy) (4.0.2)\n",
      "Requirement already satisfied: idna<4,>=2.5 in c:\\users\\user\\anaconda3\\lib\\site-packages (from requests>=2.25.0->spotipy) (3.3)\n",
      "Requirement already satisfied: charset-normalizer~=2.0.0 in c:\\users\\user\\anaconda3\\lib\\site-packages (from requests>=2.25.0->spotipy) (2.0.4)\n",
      "Requirement already satisfied: certifi>=2017.4.17 in c:\\users\\user\\anaconda3\\lib\\site-packages (from requests>=2.25.0->spotipy) (2022.9.24)\n"
     ]
    }
   ],
   "source": [
    "!pip install spotipy"
   ]
  },
  {
   "cell_type": "code",
   "execution_count": 2,
   "metadata": {
    "id": "9CAcTT6_AFMd"
   },
   "outputs": [],
   "source": [
    "import spotipy\n",
    "from spotipy.oauth2 import SpotifyClientCredentials\n",
    "# Credenciais da aplicação criada no Spotify Developer:\n",
    "client_id = ''\n",
    "client_secret = ''\n",
    "# Criando um gerenciador de credenciais e um objeto da API do Spotify:\n",
    "client_credentials_manager = SpotifyClientCredentials(client_id=client_id, client_secret=client_secret)\n",
    "sp = spotipy.Spotify(client_credentials_manager=client_credentials_manager)"
   ]
  },
  {
   "cell_type": "markdown",
   "metadata": {
    "id": "Hsa2kGO6AFMi"
   },
   "source": [
    "## Nó raiz\n",
    "\n",
    "O nó raiz será o artista [Vintage Culture](https://open.spotify.com/artist/28uJnu5EsrGml2tBd7y8ts?si=ALFe0k18RWeKGfmDAJDqoQ)."
   ]
  },
  {
   "cell_type": "code",
   "execution_count": 3,
   "metadata": {
    "id": "ramQabtkAFMj"
   },
   "outputs": [],
   "source": [
    "# ID do Spotify para o artista Vintage Culture:\n",
    "seed_artist = 'spotify:artist:28uJnu5EsrGml2tBd7y8ts' "
   ]
  },
  {
   "cell_type": "markdown",
   "metadata": {
    "id": "kyeF6Oh-AFMm"
   },
   "source": [
    "# Construindo a rede\n",
    "\n",
    "Para construir uma rede, usaremos uma forma modificada de DFS com profundidade limitada para gerar um dicionário de artistas para uma lista de artistas relacionados."
   ]
  },
  {
   "cell_type": "code",
   "execution_count": 4,
   "metadata": {
    "id": "acr4lWmnAFMn"
   },
   "outputs": [],
   "source": [
    "def build_related_network(artist_id, depth: int=3) -> dict:\n",
    "    \"\"\"\n",
    "    Return a dictionary of artist names to lists of their related artists.\n",
    "    \n",
    "    Args:\n",
    "        arist_id: the id of the artist to start the graph from\n",
    "        depth: the depth into the related artist network \n",
    "    \n",
    "    Returns: a dictionary of strings (artist name) to lists (related artists)\n",
    "    \"\"\"\n",
    "    graph = dict()\n",
    "    _build_related_network(artist_id, depth, graph)\n",
    "    return graph\n",
    "\n",
    "def _build_related_network(artist_id, depth, graph):\n",
    "    \"\"\"\n",
    "    Recursively collect related artists and store the results in the graph.\n",
    "    \n",
    "    Args:\n",
    "        artist_id: the artist to get the related artists of\n",
    "        depth: the current depth in the graph\n",
    "        graph: the dictionary to put the related artist results into\n",
    "    \"\"\"\n",
    "    if depth == 0:\n",
    "        return\n",
    "    name = sp.artist(artist_id)['name']\n",
    "    if name in graph.keys(): \n",
    "        print(\"revisit for \" + name)\n",
    "        return\n",
    "    print(\"fetching for \" + name)\n",
    "    like_artist = sp.artist_related_artists(artist_id)\n",
    "    graph[name] = [related['name'] for related in like_artist['artists']]\n",
    "    [_build_related_network(related['id'], depth - 1, graph) for related in like_artist['artists']]"
   ]
  },
  {
   "cell_type": "code",
   "execution_count": 5,
   "metadata": {
    "colab": {
     "base_uri": "https://localhost:8080/"
    },
    "id": "hwO8dDHDAFMq",
    "outputId": "fbeff3ec-b7af-4d26-f7cc-8360f81e3a3c"
   },
   "outputs": [
    {
     "name": "stdout",
     "output_type": "stream",
     "text": [
      "fetching for Vintage Culture\n"
     ]
    },
    {
     "data": {
      "text/plain": [
       "{'Vintage Culture': ['Cat Dealers',\n",
       "  'Chapeleiro',\n",
       "  'Dubdogz',\n",
       "  'Bhaskar',\n",
       "  'JØRD',\n",
       "  'KVSH',\n",
       "  'Jetlag Music',\n",
       "  'Malifoo',\n",
       "  'DUX',\n",
       "  'Sevenn',\n",
       "  'Evokings',\n",
       "  'Breno Miranda',\n",
       "  'Zeeba',\n",
       "  'Vitor Kley',\n",
       "  'Groove Delight',\n",
       "  'Chemical Surf',\n",
       "  'GHOSTT',\n",
       "  'VINNE',\n",
       "  'Bruno Be',\n",
       "  'Atitude 67']}"
      ]
     },
     "execution_count": 5,
     "metadata": {},
     "output_type": "execute_result"
    }
   ],
   "source": [
    "# Checando o caso base:\n",
    "build_related_network(seed_artist, 1)"
   ]
  },
  {
   "cell_type": "code",
   "execution_count": 6,
   "metadata": {
    "colab": {
     "base_uri": "https://localhost:8080/"
    },
    "id": "NcaVGeNXAFMt",
    "outputId": "5fdcfd41-1c97-4284-c4e6-a0794f6c217e"
   },
   "outputs": [
    {
     "name": "stdout",
     "output_type": "stream",
     "text": [
      "fetching for Vintage Culture\n",
      "fetching for Cat Dealers\n",
      "fetching for Jetlag Music\n",
      "fetching for DUX\n",
      "revisit for Jetlag Music\n",
      "fetching for GHOSTT\n",
      "fetching for Malifoo\n",
      "fetching for Breno Miranda\n",
      "fetching for Zeeba\n",
      "fetching for Evokings\n",
      "fetching for JØRD\n",
      "fetching for Selva\n",
      "fetching for Joy Corporation\n",
      "fetching for Sevenn\n",
      "fetching for KVSH\n",
      "fetching for Dazzo\n",
      "fetching for Dubdogz\n",
      "fetching for Elekfantz\n",
      "fetching for VINNE\n",
      "fetching for Pontifexx\n",
      "fetching for Bhaskar\n",
      "revisit for Cat Dealers\n",
      "fetching for Bruno Be\n",
      "fetching for Zerb\n",
      "revisit for Evokings\n",
      "revisit for Malifoo\n",
      "revisit for GHOSTT\n",
      "revisit for JØRD\n",
      "revisit for Breno Miranda\n",
      "revisit for Zeeba\n",
      "revisit for Selva\n",
      "revisit for KVSH\n",
      "revisit for Sevenn\n",
      "revisit for Dazzo\n",
      "revisit for Joy Corporation\n",
      "revisit for Cat Dealers\n",
      "revisit for Dubdogz\n",
      "revisit for Bhaskar\n",
      "revisit for VINNE\n",
      "revisit for Elekfantz\n",
      "revisit for Pontifexx\n",
      "revisit for Bruno Be\n",
      "fetching for Groove Delight\n",
      "revisit for JØRD\n",
      "revisit for GHOSTT\n",
      "revisit for Evokings\n",
      "revisit for Malifoo\n",
      "revisit for Sevenn\n",
      "revisit for Jetlag Music\n",
      "revisit for Dazzo\n",
      "revisit for KVSH\n",
      "revisit for DUX\n",
      "revisit for Bhaskar\n",
      "fetching for Chemical Surf\n",
      "fetching for Gustavo Mota\n",
      "revisit for Cat Dealers\n",
      "fetching for Felguk\n",
      "revisit for Elekfantz\n",
      "revisit for Bruno Be\n",
      "revisit for Dubdogz\n",
      "revisit for Breno Miranda\n",
      "revisit for Joy Corporation\n",
      "revisit for VINNE\n",
      "revisit for Vintage Culture\n",
      "revisit for Bhaskar\n",
      "revisit for Malifoo\n",
      "revisit for KVSH\n",
      "revisit for JØRD\n",
      "revisit for Sevenn\n",
      "revisit for Evokings\n",
      "fetching for Chapeleiro\n",
      "revisit for Cat Dealers\n",
      "revisit for Sevenn\n",
      "fetching for Mc Gw\n",
      "fetching for Mc Th\n",
      "fetching for Mc Pedrinho\n",
      "fetching for Mc Don Juan\n",
      "fetching for MC Menor da VG\n",
      "fetching for Mc Pikachu\n",
      "fetching for Os Cretinos\n",
      "fetching for Mc Leléto\n",
      "fetching for Mc Kitinho\n",
      "fetching for MC G15\n",
      "fetching for Mc Neguinho do ITR\n",
      "fetching for Mc Jhey\n",
      "fetching for Mc Magrinho\n",
      "fetching for MC Kekel\n",
      "fetching for Mc 2k\n",
      "fetching for MC Rick\n",
      "fetching for MC L da Vinte\n",
      "fetching for Mc Livinho\n",
      "fetching for Mc 7 Belo\n",
      "fetching for Mc IG\n",
      "fetching for MC Dede\n",
      "revisit for JØRD\n",
      "revisit for KVSH\n",
      "revisit for Dubdogz\n",
      "revisit for Jetlag Music\n",
      "revisit for Mc Th\n",
      "revisit for Vintage Culture\n",
      "revisit for Bhaskar\n",
      "revisit for Mc Livinho\n",
      "revisit for Evokings\n",
      "revisit for VINNE\n",
      "revisit for Chemical Surf\n",
      "revisit for Mc Kitinho\n",
      "revisit for Mc Don Juan\n",
      "fetching for Vegas (Brazil)\n",
      "fetching for Special M\n",
      "fetching for Dang3r\n",
      "fetching for Gonzi\n",
      "fetching for Vermont (BR)\n",
      "fetching for Freakaholics\n",
      "fetching for Aura Vortex\n",
      "fetching for Groundbass\n",
      "fetching for Menumas\n",
      "fetching for Berg\n",
      "fetching for Jilax\n",
      "fetching for Basscannon\n",
      "fetching for Omiki\n",
      "fetching for Two Birds\n",
      "fetching for WHITENO1SE\n",
      "fetching for Major7\n",
      "fetching for Blastoyz\n",
      "fetching for Synthatic\n",
      "fetching for Sajanka\n",
      "fetching for Dekel\n",
      "fetching for Gottinari\n",
      "revisit for Groove Delight\n",
      "revisit for Aura Vortex\n",
      "revisit for Vermont (BR)\n",
      "revisit for Breno Miranda\n",
      "revisit for Pontifexx\n",
      "revisit for DUX\n",
      "revisit for GHOSTT\n",
      "revisit for Zeeba\n",
      "revisit for Dazzo\n",
      "fetching for Bruno Martini\n",
      "revisit for Pontifexx\n",
      "revisit for Cat Dealers\n",
      "revisit for Malifoo\n",
      "revisit for Sevenn\n",
      "revisit for JØRD\n",
      "revisit for GHOSTT\n",
      "revisit for Bhaskar\n",
      "revisit for Zeeba\n",
      "revisit for KVSH\n",
      "revisit for Breno Miranda\n",
      "revisit for Jetlag Music\n",
      "revisit for Elekfantz\n",
      "fetching for Liu\n",
      "fetching for Takashi Kako\n",
      "revisit for Pontifexx\n",
      "revisit for Sevenn\n",
      "revisit for Bruno Martini\n",
      "revisit for Cat Dealers\n",
      "revisit for JØRD\n",
      "revisit for Malifoo\n",
      "revisit for VINNE\n",
      "revisit for Jetlag Music\n",
      "revisit for KVSH\n",
      "revisit for Breno Miranda\n",
      "revisit for Dubdogz\n",
      "revisit for Groove Delight\n",
      "revisit for Bruno Be\n",
      "revisit for Evokings\n",
      "fetching for Victor Lou\n",
      "revisit for Dazzo\n",
      "revisit for Felguk\n",
      "revisit for Bhaskar\n",
      "fetching for Carola\n",
      "fetching for Joe Kinni\n",
      "fetching for Make U Sweat\n",
      "fetching for Jopin\n",
      "fetching for André Sarate\n",
      "fetching for LIVIT\n",
      "fetching for Lucce\n",
      "fetching for Breno Gontijo\n",
      "fetching for Nina F.\n",
      "fetching for Breno Rocha\n",
      "fetching for Marina Diniz\n",
      "fetching for Pic Schmitz\n",
      "fetching for Dre Guazzelli\n",
      "fetching for Kalozy\n",
      "fetching for Chris Leão\n",
      "fetching for Ralk\n",
      "fetching for DANNE\n",
      "revisit for Jetlag Music\n",
      "revisit for Malifoo\n",
      "revisit for Breno Miranda\n",
      "fetching for Woo2Tech\n",
      "revisit for Elekfantz\n",
      "revisit for Dubdogz\n",
      "fetching for Vitor Kley\n",
      "revisit for Breno Miranda\n",
      "fetching for Lagum\n",
      "revisit for Zeeba\n",
      "fetching for Tritom\n",
      "fetching for Atitude 67\n",
      "fetching for Melim\n",
      "fetching for Gabriel Elias\n",
      "fetching for Mariana Nolasco\n",
      "fetching for MAR ABERTO\n",
      "fetching for IZA\n",
      "fetching for Ana Vilela\n",
      "revisit for Cat Dealers\n",
      "revisit for Bruno Martini\n",
      "revisit for Jetlag Music\n",
      "fetching for Nossa Toca\n",
      "fetching for A.D.Z\n",
      "fetching for OUTROEU\n",
      "fetching for Ana Gabriela\n",
      "revisit for Malifoo\n",
      "fetching for Clau\n",
      "revisit for VINNE\n",
      "revisit for Jopin\n",
      "revisit for Groove Delight\n",
      "revisit for DUX\n",
      "revisit for Dubdogz\n",
      "revisit for Joy Corporation\n",
      "revisit for VINNE\n",
      "revisit for Selva\n",
      "revisit for Chapeleiro\n",
      "revisit for Dubdogz\n",
      "revisit for Bhaskar\n",
      "revisit for JØRD\n",
      "revisit for KVSH\n",
      "revisit for Jetlag Music\n",
      "revisit for Malifoo\n",
      "revisit for DUX\n",
      "revisit for Sevenn\n",
      "revisit for Evokings\n",
      "revisit for Breno Miranda\n",
      "revisit for Zeeba\n",
      "revisit for Vitor Kley\n",
      "revisit for Groove Delight\n",
      "revisit for Chemical Surf\n",
      "revisit for GHOSTT\n",
      "revisit for VINNE\n",
      "revisit for Bruno Be\n",
      "revisit for Atitude 67\n"
     ]
    }
   ],
   "source": [
    "like_seed = build_related_network(seed_artist, 5)"
   ]
  },
  {
   "cell_type": "markdown",
   "metadata": {
    "id": "Ovd90TjxAFMv"
   },
   "source": [
    "# Formatando a rede para o Gephi"
   ]
  },
  {
   "cell_type": "code",
   "execution_count": 7,
   "metadata": {
    "id": "pBwIvWKgAFMw"
   },
   "outputs": [],
   "source": [
    "import pandas as pd\n",
    "import numpy as np"
   ]
  },
  {
   "cell_type": "markdown",
   "metadata": {
    "id": "qAD24N1dAFMy"
   },
   "source": [
    "## nodes.csv"
   ]
  },
  {
   "cell_type": "code",
   "execution_count": 8,
   "metadata": {
    "id": "H9x6RmvNAFMz"
   },
   "outputs": [],
   "source": [
    "def build_nodes(graph: dict) -> pd.DataFrame:\n",
    "    \"\"\"\n",
    "    Return a dataframe of nodes for the given graph.\n",
    "    \n",
    "    Args:\n",
    "        graph: the graph to generate a unique table of nodes from\n",
    "        \n",
    "    Returns: a dataframe with nodes and unique ids\n",
    "    \"\"\"\n",
    "    _nodes = []\n",
    "\n",
    "    # iterate over all the artists in the list\n",
    "    for artist, related_list in graph.items():\n",
    "        _nodes.append(artist)\n",
    "        [_nodes.append(related) for related in related_list]\n",
    "\n",
    "    # keep only unique nodes\n",
    "    _nodes = np.unique(_nodes)\n",
    "    # make a dataframe to generate ids\n",
    "    _nodes = pd.DataFrame(_nodes, columns=['label'])\n",
    "    # use the index columns as the id\n",
    "    _nodes['id'] = _nodes.index\n",
    "    return _nodes"
   ]
  },
  {
   "cell_type": "code",
   "execution_count": 9,
   "metadata": {
    "colab": {
     "base_uri": "https://localhost:8080/",
     "height": 204
    },
    "id": "YABkpEl3AFM2",
    "outputId": "3b8a80e7-80aa-4087-d374-ac30e3c69ee8",
    "scrolled": true
   },
   "outputs": [
    {
     "data": {
      "text/html": [
       "<div>\n",
       "<style scoped>\n",
       "    .dataframe tbody tr th:only-of-type {\n",
       "        vertical-align: middle;\n",
       "    }\n",
       "\n",
       "    .dataframe tbody tr th {\n",
       "        vertical-align: top;\n",
       "    }\n",
       "\n",
       "    .dataframe thead th {\n",
       "        text-align: right;\n",
       "    }\n",
       "</style>\n",
       "<table border=\"1\" class=\"dataframe\">\n",
       "  <thead>\n",
       "    <tr style=\"text-align: right;\">\n",
       "      <th></th>\n",
       "      <th>label</th>\n",
       "      <th>id</th>\n",
       "    </tr>\n",
       "  </thead>\n",
       "  <tbody>\n",
       "    <tr>\n",
       "      <th>0</th>\n",
       "      <td>1Kilo</td>\n",
       "      <td>0</td>\n",
       "    </tr>\n",
       "    <tr>\n",
       "      <th>1</th>\n",
       "      <td>3030</td>\n",
       "      <td>1</td>\n",
       "    </tr>\n",
       "    <tr>\n",
       "      <th>2</th>\n",
       "      <td>4i20</td>\n",
       "      <td>2</td>\n",
       "    </tr>\n",
       "    <tr>\n",
       "      <th>3</th>\n",
       "      <td>5 a Seco</td>\n",
       "      <td>3</td>\n",
       "    </tr>\n",
       "    <tr>\n",
       "      <th>4</th>\n",
       "      <td>7th Sun</td>\n",
       "      <td>4</td>\n",
       "    </tr>\n",
       "  </tbody>\n",
       "</table>\n",
       "</div>"
      ],
      "text/plain": [
       "      label  id\n",
       "0     1Kilo   0\n",
       "1      3030   1\n",
       "2      4i20   2\n",
       "3  5 a Seco   3\n",
       "4   7th Sun   4"
      ]
     },
     "execution_count": 9,
     "metadata": {},
     "output_type": "execute_result"
    }
   ],
   "source": [
    "network_nodes = build_nodes(like_seed)\n",
    "network_nodes.head()"
   ]
  },
  {
   "cell_type": "markdown",
   "metadata": {
    "id": "nRh6JBLzAFM4"
   },
   "source": [
    "## edges.csv"
   ]
  },
  {
   "cell_type": "code",
   "execution_count": 10,
   "metadata": {
    "id": "KZAUmanuAFM5"
   },
   "outputs": [],
   "source": [
    "def build_edges(graph: dict, nodes: pd.DataFrame) -> pd.DataFrame:\n",
    "    \"\"\"\n",
    "    Return a dataframe of edges based on the graph and table of node ids.\n",
    "    \n",
    "    Args:\n",
    "        graph: the graph to find edges in\n",
    "        nodes: the table of nodes with unique node ids\n",
    "        \n",
    "    Returns: a table of targets to destinations by unique id\n",
    "    \"\"\"\n",
    "    _edges = []\n",
    "\n",
    "    for artist, related_list in graph.items():\n",
    "        artist_node = nodes['id'][nodes['label'] == artist].values[0]\n",
    "        for related in related_list:\n",
    "            related_node = nodes['id'][nodes['label'] == related].values[0]\n",
    "            _edges.append((artist_node, related_node))\n",
    "\n",
    "    return pd.DataFrame(_edges, columns=['Source','Target'])"
   ]
  },
  {
   "cell_type": "code",
   "execution_count": 11,
   "metadata": {
    "colab": {
     "base_uri": "https://localhost:8080/",
     "height": 204
    },
    "id": "fe3yaJjHAFM7",
    "outputId": "52ac801b-9ef8-45d9-c9e4-69b3b8e3e743"
   },
   "outputs": [
    {
     "data": {
      "text/html": [
       "<div>\n",
       "<style scoped>\n",
       "    .dataframe tbody tr th:only-of-type {\n",
       "        vertical-align: middle;\n",
       "    }\n",
       "\n",
       "    .dataframe tbody tr th {\n",
       "        vertical-align: top;\n",
       "    }\n",
       "\n",
       "    .dataframe thead th {\n",
       "        text-align: right;\n",
       "    }\n",
       "</style>\n",
       "<table border=\"1\" class=\"dataframe\">\n",
       "  <thead>\n",
       "    <tr style=\"text-align: right;\">\n",
       "      <th></th>\n",
       "      <th>Source</th>\n",
       "      <th>Target</th>\n",
       "    </tr>\n",
       "  </thead>\n",
       "  <tbody>\n",
       "    <tr>\n",
       "      <th>0</th>\n",
       "      <td>383</td>\n",
       "      <td>64</td>\n",
       "    </tr>\n",
       "    <tr>\n",
       "      <th>1</th>\n",
       "      <td>383</td>\n",
       "      <td>65</td>\n",
       "    </tr>\n",
       "    <tr>\n",
       "      <th>2</th>\n",
       "      <td>383</td>\n",
       "      <td>106</td>\n",
       "    </tr>\n",
       "    <tr>\n",
       "      <th>3</th>\n",
       "      <td>383</td>\n",
       "      <td>37</td>\n",
       "    </tr>\n",
       "    <tr>\n",
       "      <th>4</th>\n",
       "      <td>383</td>\n",
       "      <td>182</td>\n",
       "    </tr>\n",
       "  </tbody>\n",
       "</table>\n",
       "</div>"
      ],
      "text/plain": [
       "   Source  Target\n",
       "0     383      64\n",
       "1     383      65\n",
       "2     383     106\n",
       "3     383      37\n",
       "4     383     182"
      ]
     },
     "execution_count": 11,
     "metadata": {},
     "output_type": "execute_result"
    }
   ],
   "source": [
    "network_edges = build_edges(like_seed, network_nodes)\n",
    "network_edges.head()"
   ]
  },
  {
   "cell_type": "markdown",
   "metadata": {
    "id": "zJOBkVFIAFNE"
   },
   "source": [
    "## Exportando os CSVs "
   ]
  },
  {
   "cell_type": "code",
   "execution_count": 14,
   "metadata": {
    "colab": {
     "base_uri": "https://localhost:8080/",
     "height": 17
    },
    "id": "AoiiZ1-LCoH_",
    "outputId": "1d4cf43a-dcbd-47f0-c7d1-454499497ed9"
   },
   "outputs": [],
   "source": [
    "network_nodes.to_csv('data/vintage_culture_nodes.csv', index = False)"
   ]
  },
  {
   "cell_type": "code",
   "execution_count": 15,
   "metadata": {
    "colab": {
     "base_uri": "https://localhost:8080/",
     "height": 17
    },
    "id": "xsu3pSqvC-SI",
    "outputId": "c3c8c6fe-53f5-4675-f6c6-2ca79606d0d2"
   },
   "outputs": [],
   "source": [
    "network_edges.to_csv('data/vintage_culture_edges.csv', index = False) "
   ]
  }
 ],
 "metadata": {
  "colab": {
   "collapsed_sections": [],
   "include_colab_link": true,
   "name": "Rede de artistas relacionados Spotify -> Gephi",
   "provenance": []
  },
  "kernelspec": {
   "display_name": "Python 3 (ipykernel)",
   "language": "python",
   "name": "python3"
  },
  "language_info": {
   "codemirror_mode": {
    "name": "ipython",
    "version": 3
   },
   "file_extension": ".py",
   "mimetype": "text/x-python",
   "name": "python",
   "nbconvert_exporter": "python",
   "pygments_lexer": "ipython3",
   "version": "3.9.12"
  }
 },
 "nbformat": 4,
 "nbformat_minor": 1
}
